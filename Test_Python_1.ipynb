{
  "nbformat": 4,
  "nbformat_minor": 5,
  "metadata": {
    "kernelspec": {
      "display_name": "Python 3",
      "language": "python",
      "name": "python3"
    },
    "language_info": {
      "codemirror_mode": {
        "name": "ipython",
        "version": 3
      },
      "file_extension": ".py",
      "mimetype": "text/x-python",
      "name": "python",
      "nbconvert_exporter": "python",
      "pygments_lexer": "ipython3",
      "version": "3.7.0"
    },
    "colab": {
      "provenance": []
    }
  },
  "cells": [
    {
      "cell_type": "markdown",
      "metadata": {
        "id": "87919d68"
      },
      "source": [
        "### Python 1 : Addition To String"
      ],
      "id": "87919d68"
    },
    {
      "cell_type": "markdown",
      "metadata": {
        "id": "c061c30a"
      },
      "source": [
        "### Task"
      ],
      "id": "c061c30a"
    },
    {
      "cell_type": "markdown",
      "metadata": {
        "id": "66fcf833"
      },
      "source": [
        "Your function name should be `add_str`.\n",
        "\n",
        "Given a string filled with integers separated by comma. Create a new number, whose digits are the integers inside the string. Then, add 1 to the new number. Then, separate the digits again to a string which consits of **single digit of\n",
        "integers**, separated by comma. This new string will be your output string. The output string **should not have zero as its first character**.  See the examples for clearer understanding."
      ],
      "id": "66fcf833"
    },
    {
      "cell_type": "markdown",
      "metadata": {
        "id": "aee24374"
      },
      "source": [
        "### Example 1:\n",
        "\n",
        "- Input = `'1,3,5'`\n",
        "- Output = `'1,3,6'`\n",
        "\n",
        "Since the input is `'1,3,5'`, then the new number created is 135. Add 135 with 1 so it becomes 136. Then, separate back 136 into each individual digits separated by comma. This becomes `'1,3,6'`. So, the expected output of your solution is `'1,3,6'`"
      ],
      "id": "aee24374"
    },
    {
      "cell_type": "markdown",
      "metadata": {
        "id": "e85af386"
      },
      "source": [
        "### Example 2:\n",
        "\n",
        "- Input = `'1,3,39'`\n",
        "- Output = `'1,3,4,0'`\n",
        "\n",
        "Since the input is `'1,3,39'`, then the new number created is 1339. Add 1339 with 1 so it becomes 1340. Then, separate back 1340 into each individual digits separated by comma. This becomes `'1,3,4,0'`. So, the expected output of your solution is `'1,3,4,0'`"
      ],
      "id": "e85af386"
    },
    {
      "cell_type": "markdown",
      "metadata": {
        "id": "bbeb3f41"
      },
      "source": [
        "### Example 1:\n",
        "\n",
        "- Input = `'0,1,3,39'`\n",
        "- Output = `'1,3,4,0'`\n",
        "\n",
        "Since the input is `'0,1,3,39'`, then the new number created is 1339. Add 1339 with 1 so it becomes 1340. Then, separate back 1340 into each individual digits separated by comma. This becomes `'1,3,4,0'`. So, the expected output of your solution is `'1,3,4,0'`. Remember, do not put a 'zero' in the beginning of your output."
      ],
      "id": "bbeb3f41"
    },
    {
      "cell_type": "markdown",
      "metadata": {
        "id": "e7807496"
      },
      "source": [
        "### Input Format\n",
        "\n",
        "The input is in the shape of a string."
      ],
      "id": "e7807496"
    },
    {
      "cell_type": "markdown",
      "metadata": {
        "id": "e9f0d6c5"
      },
      "source": [
        "### Output Format\n",
        "\n",
        "The output is in the shape of a string."
      ],
      "id": "e9f0d6c5"
    },
    {
      "cell_type": "markdown",
      "metadata": {
        "id": "f9173e59"
      },
      "source": [
        "### Sample Input"
      ],
      "id": "f9173e59"
    },
    {
      "cell_type": "markdown",
      "metadata": {
        "id": "c0526b8c"
      },
      "source": [
        "`'1,5,1,9'`"
      ],
      "id": "c0526b8c"
    },
    {
      "cell_type": "markdown",
      "metadata": {
        "id": "71fad9f8"
      },
      "source": [
        "### Sample Output\n",
        "`'1,5,2,0'`"
      ],
      "id": "71fad9f8"
    },
    {
      "cell_type": "markdown",
      "metadata": {
        "id": "8306d027"
      },
      "source": [
        "### Space for Work"
      ],
      "id": "8306d027"
    },
    {
      "cell_type": "code",
      "source": [
        "# Masukan\n",
        "masukan = '7,9,49'\n",
        "\n",
        "# Menghapus koma dari string masukan dan mengonversinya ke integer\n",
        "angka = int(masukan.replace(',', ''))\n",
        "\n",
        "# Menambahkan 1 ke angka\n",
        "angka += 1\n",
        "\n",
        "# Mengonversi angka kembali menjadi string dan memisahkan digit dengan koma\n",
        "keluaran = ','.join(str(digit) for digit in str(angka))\n",
        "\n",
        "# Cetak hasil\n",
        "print(keluaran)\n"
      ],
      "metadata": {
        "colab": {
          "base_uri": "https://localhost:8080/"
        },
        "id": "SM2kz1wZWx_X",
        "outputId": "6a3bebbc-df80-4841-fb48-dac061077b5f"
      },
      "id": "SM2kz1wZWx_X",
      "execution_count": 10,
      "outputs": [
        {
          "output_type": "stream",
          "name": "stdout",
          "text": [
            "7,9,5,0\n"
          ]
        }
      ]
    }
  ]
}